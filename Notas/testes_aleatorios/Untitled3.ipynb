{
 "cells": [
  {
   "cell_type": "code",
   "execution_count": null,
   "id": "3056417a",
   "metadata": {},
   "outputs": [],
   "source": [
    "from random import randint\n",
    "\n",
    "sorteio_dado = randint(1,7)\n",
    "numero = randint(1,7)\n",
    "\n",
    "while sorteio_dado != numero:\n",
    "    if numero == sorteio_dado:\n",
    "        print('ACERTOU.')\n",
    "        break\n",
    "\n",
    "else:\n",
    "    print('Não acertou o numero.')"
   ]
  }
 ],
 "metadata": {
  "kernelspec": {
   "display_name": "Python 3 (ipykernel)",
   "language": "python",
   "name": "python3"
  },
  "language_info": {
   "codemirror_mode": {
    "name": "ipython",
    "version": 3
   },
   "file_extension": ".py",
   "mimetype": "text/x-python",
   "name": "python",
   "nbconvert_exporter": "python",
   "pygments_lexer": "ipython3",
   "version": "3.9.7"
  }
 },
 "nbformat": 4,
 "nbformat_minor": 5
}
