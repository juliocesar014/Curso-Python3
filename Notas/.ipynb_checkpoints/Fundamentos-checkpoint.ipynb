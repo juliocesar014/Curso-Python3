{
 "cells": [
  {
   "cell_type": "markdown",
   "id": "2505ab69",
   "metadata": {},
   "source": [
    "# Primeiros Exemplos"
   ]
  },
  {
   "cell_type": "code",
   "execution_count": null,
   "id": "91755ac6",
   "metadata": {},
   "outputs": [],
   "source": []
  },
  {
   "cell_type": "code",
   "execution_count": null,
   "id": "f8ccfbc4",
   "metadata": {},
   "outputs": [],
   "source": []
  },
  {
   "cell_type": "code",
   "execution_count": 35,
   "id": "54d0207c",
   "metadata": {},
   "outputs": [
    {
     "name": "stdout",
     "output_type": "stream",
     "text": [
      "Primeiro Programa\n",
      "Help on built-in function print in module builtins:\n",
      "\n",
      "print(...)\n",
      "    print(value, ..., sep=' ', end='\\n', file=sys.stdout, flush=False)\n",
      "    \n",
      "    Prints the values to a stream, or to sys.stdout by default.\n",
      "    Optional keyword arguments:\n",
      "    file:  a file-like object (stream); defaults to the current sys.stdout.\n",
      "    sep:   string inserted between values, default a space.\n",
      "    end:   string appended after the last value, default a newline.\n",
      "    flush: whether to forcibly flush the stream.\n",
      "\n"
     ]
    }
   ],
   "source": [
    "print('Primeiro Programa')\n",
    "(1 \n",
    " + 2)\n",
    "help(print)"
   ]
  },
  {
   "cell_type": "code",
   "execution_count": 41,
   "id": "dad93353",
   "metadata": {},
   "outputs": [
    {
     "name": "stdout",
     "output_type": "stream",
     "text": [
      "8\n",
      "6\n"
     ]
    }
   ],
   "source": [
    "print(1 + 3 + 4)\n",
    "print(4 + 2)"
   ]
  },
  {
   "cell_type": "markdown",
   "id": "ea79b72f",
   "metadata": {},
   "source": [
    "# Tipos Básicos"
   ]
  },
  {
   "cell_type": "code",
   "execution_count": 2,
   "id": "690f1e5a",
   "metadata": {},
   "outputs": [
    {
     "name": "stdout",
     "output_type": "stream",
     "text": [
      "True\n",
      "False\n",
      "2.2\n",
      "Dentro das aspas simples, eu falo minha linguagem\n",
      "Também pode escrever/funciona com aspas duplas também\n",
      "Voce é  muito muito muito legal\n",
      "6\n",
      "[1, 2, 3]\n",
      "{'nome': 'Julio', 'idade': '20', 'cidade': 'Joao Pessoa'}\n",
      "None\n"
     ]
    }
   ],
   "source": [
    "print(True)\n",
    "print(False)\n",
    "print(1.2 + 1)\n",
    "print('Dentro das aspas simples, eu falo minha linguagem')\n",
    "print(\"Também pode escrever/funciona com aspas duplas também\")\n",
    "\n",
    "print('Voce é ' +  3 * ' muito' + ' legal')\n",
    "# COM ASPAS VOCE ESCREVE O TEXTO, (+) VAI JUNTAR A FRASE \n",
    "\n",
    "#print(3 + 'a') NÃO VAI DAR CERTO PQ TEM AMBIGUIDADE, OU QUER SOMAR 3 + A OU QUER REPETIR O A 3 VEZES?\n",
    "\n",
    "print(2 * 3)\n",
    "\n",
    "\n",
    "\n",
    "\n",
    "print([1, 2, 3,]) #LISTA\n",
    "print({'nome': 'Julio' , 'idade': '20' , 'cidade' : 'Joao Pessoa'})  #DICIONARIO = ESTRUTURA CHAVE VALOR\n",
    "print(None) #ausencia de valor"
   ]
  },
  {
   "cell_type": "markdown",
   "id": "b620dfc9",
   "metadata": {},
   "source": [
    "# Variáveis"
   ]
  },
  {
   "cell_type": "code",
   "execution_count": 14,
   "id": "1982aa6c",
   "metadata": {},
   "outputs": [
    {
     "name": "stdout",
     "output_type": "stream",
     "text": [
      "15.2\n",
      "Agora viro string\n"
     ]
    }
   ],
   "source": [
    "a = 10\n",
    "b = 5.2 \n",
    "\n",
    "print(a+b)\n",
    "\n",
    "a = 'Agora viro string'\n",
    "print(a)\n"
   ]
  },
  {
   "cell_type": "markdown",
   "id": "01d5e7fd",
   "metadata": {},
   "source": [
    "# Comentários"
   ]
  },
  {
   "cell_type": "code",
   "execution_count": 26,
   "id": "1cf3093d",
   "metadata": {},
   "outputs": [
    {
     "name": "stdout",
     "output_type": "stream",
     "text": [
      "994.25\n",
      "994.25\n",
      "Resultado\n"
     ]
    }
   ],
   "source": [
    "# Minhas variáveis\n",
    "salario = 3450.45\n",
    "despesas = 2456.2\n",
    "\n",
    "'''\n",
    "paspsads\n",
    "'''\n",
    "\n",
    "print(salario-despesas)\n",
    "# print('Fim')\n",
    "resultado = salario - despesas\n",
    "print(resultado)\n",
    "\n"
   ]
  },
  {
   "cell_type": "markdown",
   "id": "8c78da06",
   "metadata": {},
   "source": [
    "# Operadores Aritméticos"
   ]
  },
  {
   "cell_type": "code",
   "execution_count": 47,
   "id": "8fe04049",
   "metadata": {},
   "outputs": [
    {
     "name": "stdout",
     "output_type": "stream",
     "text": [
      "-3\n",
      "10.6\n",
      "2.0\n",
      "2.7272727272727275\n",
      "512\n",
      "2\n",
      "12 12\n",
      "24\n"
     ]
    }
   ],
   "source": [
    "2 + 3\n",
    "print(4-7)\n",
    "print( 2 * 5.3)\n",
    "print( 9 // 3.3) # DUAS BARRA VAI DAR O RESULTADO INTEIRO\n",
    "print( 9 / 3.3 ) # UMA BARRA VAI DAR O RESULTADO QUEBRADO\n",
    "print( 2** 9)\n",
    "print( 10%4)\n",
    "\n",
    "a = 12\n",
    "b = a\n",
    "\n",
    "print(a,b)\n",
    "print(a+b)"
   ]
  },
  {
   "cell_type": "markdown",
   "id": "691f0803",
   "metadata": {},
   "source": [
    "# Desafio"
   ]
  },
  {
   "cell_type": "code",
   "execution_count": 51,
   "id": "73cc74d4",
   "metadata": {},
   "outputs": [
    {
     "name": "stdout",
     "output_type": "stream",
     "text": [
      "71.18491790925822\n"
     ]
    }
   ],
   "source": [
    "salario = 3450.45\n",
    "despesas = 2456.2\n",
    "\n",
    "percentual = despesas / salario * 100\n",
    "print(percentual)\n",
    "\n",
    "# #REGRA DE TRES SIMPLES, SALARIO = 100\n",
    "#                         DESPESA = X\n",
    "#                         DESPESA DIVIDIDO POR SALARIO * 100\n",
    "        "
   ]
  },
  {
   "cell_type": "markdown",
   "id": "5c652a40",
   "metadata": {},
   "source": [
    "# Operadores Relacionais"
   ]
  },
  {
   "cell_type": "code",
   "execution_count": 63,
   "id": "a6a49f64",
   "metadata": {},
   "outputs": [
    {
     "data": {
      "text/plain": [
       "False"
      ]
     },
     "execution_count": 63,
     "metadata": {},
     "output_type": "execute_result"
    }
   ],
   "source": [
    "3 > 4 \n",
    "4 >= 3 #maior ou igual\n",
    "1 < 2 \n",
    "3 <= 1  #menor ou igual\n",
    "3 != 2 # != diferente\n",
    "3 == 3 # é igual? \n",
    "2 == '2'\n"
   ]
  },
  {
   "cell_type": "markdown",
   "id": "fc13ba34",
   "metadata": {},
   "source": [
    "# Operadoes de Atribuição"
   ]
  },
  {
   "cell_type": "code",
   "execution_count": 81,
   "id": "eaee2c5b",
   "metadata": {},
   "outputs": [
    {
     "name": "stdout",
     "output_type": "stream",
     "text": [
      "10\n",
      "5\n",
      "5\n",
      "3\n",
      "6\n",
      "2.0\n"
     ]
    }
   ],
   "source": [
    "a = 3\n",
    "a = a + 7\n",
    "print(a)\n",
    "\n",
    "# += ATRIBUICAO ADITIVA\n",
    "a = 3\n",
    "a += 2\n",
    "print(a)\n",
    "print(a)\n",
    "\n",
    "a -= 2 # -= ATRIBUICAO DIMINUITIVA\n",
    "\n",
    "print(a)\n",
    "\n",
    "a *= 2 # ATRIBUICAO MULTIPLICATIVA\n",
    "print(a)\n",
    "\n",
    "a /= 3 #ATRIBUICAO DIVISIVA\n",
    "print(a)\n"
   ]
  },
  {
   "cell_type": "markdown",
   "id": "81589b32",
   "metadata": {},
   "source": [
    "# Operadores Lógicos"
   ]
  },
  {
   "cell_type": "code",
   "execution_count": 125,
   "id": "b0a1f8b9",
   "metadata": {},
   "outputs": [
    {
     "data": {
      "text/plain": [
       "True"
      ]
     },
     "execution_count": 125,
     "metadata": {},
     "output_type": "execute_result"
    }
   ],
   "source": [
    "True or False        #OR = OU\n",
    "7 != 3 and 2 > 4     #AND = E\n",
    "\n",
    "# Tabela Verdade do AND = e\n",
    "\n",
    "True and True # true\n",
    "True and False # false\n",
    "False and False # false\n",
    "False and True  #false\n",
    "\n",
    "# Tabela Verdade do OR = ou\n",
    "\n",
    "True or True # true\n",
    "True or False # true\n",
    "False or True  #true\n",
    "False or False #false\n",
    "\n",
    "# Tabela verde do XOR = ou exclusivo, ou um ou outro\n",
    "True != True # true é diferente de true? FALSE\n",
    "True != False # true é diferente de false? TRUE\n",
    "False != True # false é diferente de true? TRUE\n",
    "False != False #false é diferente de false? FALSE\n",
    "\n",
    "\n",
    "# OPERADOR DE NEGAÇÃO\n",
    "\n",
    "not True #não é true. FALSE\n",
    "not False #não é false. TRUE\n",
    "\n",
    "\n",
    "# UM POUCO DE REALIDADE\n",
    "saldo = 1000\n",
    "salario = 4000\n",
    "despesas = 2967\n",
    "meta = saldo > 0 and salario - despesas >= 0.20 * salario\n",
    "meta\n"
   ]
  },
  {
   "cell_type": "markdown",
   "id": "d76b1aac",
   "metadata": {},
   "source": [
    "# Desafio Operadores Lógicos"
   ]
  },
  {
   "cell_type": "code",
   "execution_count": 23,
   "id": "e618fcad",
   "metadata": {},
   "outputs": [
    {
     "name": "stdout",
     "output_type": "stream",
     "text": [
      "Tv50=False Tv32=True Sorvete=True Saude=False\n"
     ]
    }
   ],
   "source": [
    "trabalho_terca = True\n",
    "trabalho_quinta = False\n",
    "\n",
    "# trabalho_terca and trabalho_quinta = TV 50 + sorvete\n",
    "# trabalho_terca != trabalho_quinta = TV 32 + sorvete\n",
    "# sem sorvete  = not trabalho_terca , not trabalho_quinta\n",
    "\n",
    "tv_50 = trabalho_terca and trabalho_quinta\n",
    "tv_32 = trabalho_terca != trabalho_quinta\n",
    "sorvete = trabalho_terca or trabalho_quinta\n",
    "saude = not sorvete\n",
    "\n",
    "print(\"Tv50={} Tv32={} Sorvete={} Saude={}\"\n",
    ".format(tv_50, tv_32, sorvete, saude))\n",
    "\n",
    "\n",
    "\n"
   ]
  },
  {
   "cell_type": "code",
   "execution_count": null,
   "id": "d1b03569",
   "metadata": {},
   "outputs": [],
   "source": []
  },
  {
   "cell_type": "code",
   "execution_count": null,
   "id": "dc6a0aa7",
   "metadata": {},
   "outputs": [],
   "source": []
  },
  {
   "cell_type": "code",
   "execution_count": null,
   "id": "109d94e6",
   "metadata": {},
   "outputs": [],
   "source": []
  },
  {
   "cell_type": "markdown",
   "id": "18829dbb",
   "metadata": {},
   "source": [
    "# Operadores Unarios e Ternarios"
   ]
  },
  {
   "cell_type": "markdown",
   "id": "caeca359",
   "metadata": {},
   "source": [
    "## EXEMPLOS NA PRATICA."
   ]
  },
  {
   "cell_type": "code",
   "execution_count": 46,
   "id": "1805f3c8",
   "metadata": {},
   "outputs": [
    {
     "name": "stdout",
     "output_type": "stream",
     "text": [
      " Hoje estou com as roupas secas.\n"
     ]
    }
   ],
   "source": [
    "esta_chovendo = False\n",
    "\" Hoje estou com as roupas \" + (\"secas.\" , \"molhadas.\")[ esta_chovendo]\n",
    "secas = not esta_chovendo\n",
    "molhadas = esta_chovendo\n",
    "\n",
    "print(\" Hoje estou com as roupas \" + (\"secas.\" ,  \"molhadas.\")[ esta_chovendo])\n",
    "\n"
   ]
  },
  {
   "cell_type": "code",
   "execution_count": 76,
   "id": "b43165fb",
   "metadata": {},
   "outputs": [
    {
     "name": "stdout",
     "output_type": "stream",
     "text": [
      "Hoje vou para academia,vou treinar.\n"
     ]
    }
   ],
   "source": [
    "\n",
    "\n",
    "e_domingo = False\n",
    "\" Hoje vou para academia \" + (\"vou_treinar.\" , \"nao_vou_treinar\")[ e_domingo]\n",
    "vou_treinar = not e_domingo\n",
    "nao_vou_treinar = e_domingo\n",
    "\n",
    "\n",
    "print(\"Hoje vou para academia,\" +  (\"vou treinar.\"  , \"nao vou treinar.\")[e_domingo])"
   ]
  },
  {
   "cell_type": "code",
   "execution_count": 97,
   "id": "98364e5b",
   "metadata": {},
   "outputs": [
    {
     "name": "stdout",
     "output_type": "stream",
     "text": [
      " Hoje estou com as roupas molhadas.\n"
     ]
    }
   ],
   "source": [
    "esta_chovendo = True\n",
    "\" Hoje estou com as roupas \" + (\"secas.\" , \"molhadas.\")[esta_chovendo]\n",
    "secas = not esta_chovendo\n",
    "molhadas = esta_chovendo\n",
    "\n",
    "print(\" Hoje estou com as roupas \" + (\"secas.\" ,  \"molhadas.\" )[esta_chovendo])"
   ]
  },
  {
   "cell_type": "code",
   "execution_count": 107,
   "id": "b77a9c44",
   "metadata": {
    "scrolled": true
   },
   "outputs": [
    {
     "name": "stdout",
     "output_type": "stream",
     "text": [
      "Fui para academia andando.\n"
     ]
    }
   ],
   "source": [
    "fazendo_sol = True\n",
    "carro = not fazendo_sol\n",
    "andando = fazendo_sol\n",
    "\n",
    "\"Fui para academia\" + (\"carro.\" , \"andando.\") [fazendo_sol]\n",
    "\n",
    "print(\"Fui para academia \" +  (  \"carro.\" ,    \"andando.\")  [fazendo_sol])"
   ]
  },
  {
   "cell_type": "code",
   "execution_count": 119,
   "id": "ada2eadc",
   "metadata": {},
   "outputs": [
    {
     "name": "stdout",
     "output_type": "stream",
     "text": [
      "Acordei, tomei cafe da manha e nao vou trabalhar.\n"
     ]
    }
   ],
   "source": [
    "estou_ferias = True\n",
    "vou_trabalhar = not estou_ferias\n",
    "nao_vou_trabalhar = estou_ferias\n",
    "\n",
    "\"Acordei,tomei cafe da manha e \" + (\"vou_trabalhar.\" ,\"nao_vou_trabalhar.\") [estou_ferias]\n",
    "\n",
    "print(\"Acordei, tomei cafe da manha e \" + (\"vou_trabalhar.\" , \"nao vou trabalhar.\") [estou_ferias])\n",
    "\n",
    "\n"
   ]
  },
  {
   "cell_type": "code",
   "execution_count": null,
   "id": "52744974",
   "metadata": {},
   "outputs": [],
   "source": []
  },
  {
   "cell_type": "markdown",
   "id": "ace53d9b",
   "metadata": {},
   "source": [
    "# IF e ELSE"
   ]
  },
  {
   "cell_type": "code",
   "execution_count": null,
   "id": "50994a2b",
   "metadata": {},
   "outputs": [],
   "source": [
    "if = se\n",
    "else = caso ao contrario\n"
   ]
  },
  {
   "cell_type": "code",
   "execution_count": 125,
   "id": "c06c43ff",
   "metadata": {},
   "outputs": [
    {
     "ename": "SyntaxError",
     "evalue": "unmatched ')' (Temp/ipykernel_10796/1004281362.py, line 6)",
     "output_type": "error",
     "traceback": [
      "\u001b[1;36m  File \u001b[1;32m\"C:\\Users\\Julio\\AppData\\Local\\Temp/ipykernel_10796/1004281362.py\"\u001b[1;36m, line \u001b[1;32m6\u001b[0m\n\u001b[1;33m    \"Hoje vou com as roupas \" + (\"molhadas.\" if esta_chovendo else \"secas.\") [esta_chovendo])\u001b[0m\n\u001b[1;37m                                                                                            ^\u001b[0m\n\u001b[1;31mSyntaxError\u001b[0m\u001b[1;31m:\u001b[0m unmatched ')'\n"
     ]
    }
   ],
   "source": [
    "esta_chovendo = True\n",
    "\n",
    "\n",
    "\"Hoje vou com as roupas \" + (\"secas.\" if esta_chovendo else \"molhadas.\")\n",
    "\n",
    "\"Hoje vou com as roupas \" + (\"molhadas.\" if esta_chovendo else \"secas.\") [esta_chovendo])"
   ]
  },
  {
   "cell_type": "code",
   "execution_count": 129,
   "id": "bbd92088",
   "metadata": {},
   "outputs": [
    {
     "data": {
      "text/plain": [
       "'Hoje estou com as roupas molhadas.'"
      ]
     },
     "execution_count": 129,
     "metadata": {},
     "output_type": "execute_result"
    }
   ],
   "source": [
    "esta_chovendo = True\n",
    "esta_chovendo = True\n",
    "\n",
    "\"Hoje estou com as roupas \" + (\"molhadas.\" , \"secas.\") [esta_chovendo]\n",
    "\n",
    "\"Hoje estou com as roupas \" + (\"molhadas.\" if esta_chovendo else \"secas.\") "
   ]
  },
  {
   "cell_type": "code",
   "execution_count": 128,
   "id": "6289f647",
   "metadata": {},
   "outputs": [
    {
     "data": {
      "text/plain": [
       "'Hoje estou com as roupas molhadas.'"
      ]
     },
     "execution_count": 128,
     "metadata": {},
     "output_type": "execute_result"
    }
   ],
   "source": [
    "esta_chovendo = True\n",
    "\n",
    "\"Hoje estou com as roupas \" + (\"secas.\" , \"molhadas.\") [esta_chovendo]\n",
    "\n",
    "\"Hoje estou com as roupas \" + (\"molhadas.\" if esta_chovendo else \"secas.\")"
   ]
  },
  {
   "cell_type": "code",
   "execution_count": null,
   "id": "87461703",
   "metadata": {},
   "outputs": [],
   "source": []
  },
  {
   "cell_type": "code",
   "execution_count": 144,
   "id": "930694ee",
   "metadata": {},
   "outputs": [
    {
     "name": "stdout",
     "output_type": "stream",
     "text": [
      "Fui para academia a pe.\n"
     ]
    },
    {
     "data": {
      "text/plain": [
       "'Fui para academia a pé.'"
      ]
     },
     "execution_count": 144,
     "metadata": {},
     "output_type": "execute_result"
    }
   ],
   "source": [
    "fazendo_sol = True #O PYTHON VAI CONSIDERAR O VERDADEIRO O ULTIMO DA EXPRESSAO.\n",
    "\n",
    "\n",
    "print(\"Fui para academia \" + (\"de carro.\" , \"a pe.\") [fazendo_sol])\n",
    "\n",
    "\"Fui para academia \" + (\"a pé.\" if fazendo_sol else \"de carro.\")"
   ]
  },
  {
   "cell_type": "markdown",
   "id": "f34c272b",
   "metadata": {},
   "source": [
    "# Mais Operadores in = ESTÁ? is == É?"
   ]
  },
  {
   "cell_type": "code",
   "execution_count": 182,
   "id": "8655a3e4",
   "metadata": {},
   "outputs": [
    {
     "name": "stdout",
     "output_type": "stream",
     "text": [
      "True\n",
      "False\n",
      "False\n"
     ]
    }
   ],
   "source": [
    "# Operadores de Membros\n",
    "\n",
    "lista = [1, 2, 3, 'Ana', 'Maria', 'Joao']\n",
    "lista\n",
    "2 in lista\n",
    "2 not in lista\n",
    "\n",
    "'Julio' in lista\n",
    "\n",
    "# Operador de Identidade\n",
    "\n",
    "x = 3\n",
    "y = x\n",
    "z = 3\n",
    "\n",
    "y == z\n",
    "x == z\n",
    "\n",
    "z is x\n",
    "z is not x\n",
    "\n",
    "y is z\n",
    "\n",
    "lista_a = [ 1, 2, 3,]\n",
    "lista_b = lista_a\n",
    "lista_c = [1, 2, 3,]\n",
    "\n",
    "print(lista_a is lista_b)\n",
    "print(lista_a is lista_c)\n",
    "print(lista_a is not lista_b) "
   ]
  },
  {
   "cell_type": "markdown",
   "id": "396ad3ca",
   "metadata": {},
   "source": [
    "# Builtins"
   ]
  },
  {
   "cell_type": "code",
   "execution_count": 19,
   "id": "457a5f76",
   "metadata": {
    "scrolled": false
   },
   "outputs": [
    {
     "name": "stdout",
     "output_type": "stream",
     "text": [
      "15\n",
      "Help on built-in function dir in module builtins:\n",
      "\n",
      "dir(...)\n",
      "    dir([object]) -> list of strings\n",
      "    \n",
      "    If called without an argument, return the names in the current scope.\n",
      "    Else, return an alphabetized list of names comprising (some of) the attributes\n",
      "    of the given object, and of attributes reachable from it.\n",
      "    If the object supplies a method named __dir__, it will be used; otherwise\n",
      "    the default dir() logic is used and returns:\n",
      "      for a module object: the module's attributes.\n",
      "      for a class object:  its attributes, and recursively the attributes\n",
      "        of its bases.\n",
      "      for any other object: its attributes, its class's attributes, and\n",
      "        recursively the attributes of its class's base classes.\n",
      "\n"
     ]
    },
    {
     "data": {
      "text/plain": [
       "['In',\n",
       " 'Out',\n",
       " '_',\n",
       " '_14',\n",
       " '_17',\n",
       " '_3',\n",
       " '_6',\n",
       " '_7',\n",
       " '__',\n",
       " '___',\n",
       " '__builtin__',\n",
       " '__builtins__',\n",
       " '__doc__',\n",
       " '__loader__',\n",
       " '__name__',\n",
       " '__package__',\n",
       " '__spec__',\n",
       " '_dh',\n",
       " '_i',\n",
       " '_i1',\n",
       " '_i10',\n",
       " '_i11',\n",
       " '_i12',\n",
       " '_i13',\n",
       " '_i14',\n",
       " '_i15',\n",
       " '_i16',\n",
       " '_i17',\n",
       " '_i18',\n",
       " '_i19',\n",
       " '_i2',\n",
       " '_i3',\n",
       " '_i4',\n",
       " '_i5',\n",
       " '_i6',\n",
       " '_i7',\n",
       " '_i8',\n",
       " '_i9',\n",
       " '_ih',\n",
       " '_ii',\n",
       " '_iii',\n",
       " '_oh',\n",
       " 'a',\n",
       " 'exit',\n",
       " 'get_ipython',\n",
       " 'lista',\n",
       " 'quit']"
      ]
     },
     "execution_count": 19,
     "metadata": {},
     "output_type": "execute_result"
    }
   ],
   "source": [
    "#help(type)\n",
    "\n",
    "type(1)\n",
    "\n",
    "__builtins__.type('Testesp sadpkaspokdsap')\n",
    "__builtins__.print( 10 + 5 )\n",
    "\n",
    "help(dir)\n",
    "dir()\n",
    "a = 2\n",
    "\n",
    "dir()"
   ]
  },
  {
   "cell_type": "code",
   "execution_count": 28,
   "id": "ea022761",
   "metadata": {},
   "outputs": [
    {
     "name": "stdout",
     "output_type": "stream",
     "text": [
      "<class 'str'>\n",
      "33\n"
     ]
    }
   ],
   "source": [
    "nome = ' Julio Cesar Agripino de Oliveira'\n",
    "print(__builtins__.type(nome)) #TYPE = TIPO DA FUNCAO \n",
    "print(__builtins__.len(nome)) #LEN = NUMEROS DE CARACTERES DENTRO DA FUNCAO"
   ]
  },
  {
   "cell_type": "markdown",
   "id": "6f91eb84",
   "metadata": {},
   "source": [
    "# Conversão de Tipos"
   ]
  },
  {
   "cell_type": "code",
   "execution_count": 55,
   "id": "032dd799",
   "metadata": {},
   "outputs": [
    {
     "name": "stdout",
     "output_type": "stream",
     "text": [
      "<class 'int'>\n",
      "<class 'str'>\n",
      "<class 'float'>\n",
      "6\n",
      "42\n",
      "<class 'str'>\n"
     ]
    }
   ],
   "source": [
    "2 + 3\n",
    "\n",
    "'2' + '2' # STING + STRING = VAI JUNTAR, NÃO SOMARRRRR. \"CONCATENAÇÃO\"\n",
    "# 2 + '2' = NAO PODE!!!!\n",
    "\n",
    "\n",
    "a = 2    # = numero inteiro\n",
    "b = '4'   # = string\n",
    "c = 2.2   # = numero float\n",
    "print(type(a))\n",
    "print(type(b))\n",
    "print(type(c))\n",
    "\n",
    "\n",
    "print(a + int(b))\n",
    "\n",
    "# int(a) = VAI PEGAR O VALOR INTEIRO DESSA VARIÁVEL\n",
    "\n",
    "print(b + str(a)) # VAI JUNTAR 4 + 2 = 42\n",
    "\n",
    "print(type(str(a)))\n"
   ]
  },
  {
   "cell_type": "markdown",
   "id": "48bfc177",
   "metadata": {},
   "source": [
    "# Coerção Automática"
   ]
  },
  {
   "cell_type": "code",
   "execution_count": 70,
   "id": "8313f9c6",
   "metadata": {},
   "outputs": [
    {
     "name": "stdout",
     "output_type": "stream",
     "text": [
      "<class 'int'>\n",
      "2\n",
      "1\n"
     ]
    }
   ],
   "source": [
    "10  / 2\n",
    "2 * 4\n",
    "2 + 2\n",
    "1 - 2\n",
    "4 / 2\n",
    "print(type(_))\n",
    "\n",
    "4//2\n",
    "type(_)\n",
    "\n",
    "print(1 + True)\n",
    "print(1 + False)"
   ]
  },
  {
   "cell_type": "markdown",
   "id": "0bbd0b74",
   "metadata": {},
   "source": [
    "# Tipos Numericos"
   ]
  },
  {
   "cell_type": "code",
   "execution_count": 104,
   "id": "ef832300",
   "metadata": {},
   "outputs": [
    {
     "data": {
      "text/plain": [
       "2"
      ]
     },
     "execution_count": 104,
     "metadata": {},
     "output_type": "execute_result"
    }
   ],
   "source": [
    "dir(int)\n",
    "dir(float)\n",
    "\n",
    "a = 2\n",
    "b = 2.5\n",
    "a + b \n",
    "\n",
    "b.is_integer() # b é inteiro? FALSE\n",
    "\n",
    "\n",
    "type(a)\n",
    "\n",
    "5.0.is_integer()\n",
    "dir(int)\n",
    "int.__add__(2,4)\n",
    "\n",
    "int.__add__(2,5,)\n",
    "\n",
    "2 + 4\n",
    "2 + 4 + 2\n",
    "\n",
    "(-2).__abs__() # VAI PEGAR O NUMERO ABSOLUTO\n",
    "\n",
    "(2).__abs__()"
   ]
  },
  {
   "cell_type": "markdown",
   "id": "408f4f9a",
   "metadata": {},
   "source": [
    "# Decimal"
   ]
  },
  {
   "cell_type": "code",
   "execution_count": 37,
   "id": "041e370e",
   "metadata": {},
   "outputs": [
    {
     "name": "stdout",
     "output_type": "stream",
     "text": [
      "3.3000000000000003\n",
      "3.300\n"
     ]
    }
   ],
   "source": [
    "# 1.1 + 2.2\n",
    "from decimal import Decimal, getcontext\n",
    "(Decimal(1) / Decimal(7))\n",
    "\n",
    "getcontext().prec = 4\n",
    "Decimal(1) / Decimal(7)\n",
    "Decimal.max(Decimal(1), Decimal(7))\n",
    "Decimal(1) > Decimal(7)\n",
    "# dir(Decimal)\n",
    "\n",
    "print(1.1 + 2.2)\n",
    "print(Decimal(1.1) + Decimal(2.2))\n"
   ]
  },
  {
   "cell_type": "markdown",
   "id": "672d4919",
   "metadata": {},
   "source": [
    "# Tipo Strings"
   ]
  },
  {
   "cell_type": "code",
   "execution_count": 79,
   "id": "5b7a1c36",
   "metadata": {
    "scrolled": true
   },
   "outputs": [
    {
     "name": "stdout",
     "output_type": "stream",
     "text": [
      " O texto que comeca por aspas simples, pode ter \"aspas duplas\" entre ele\n",
      "O texto que comeca por aspas duplas, pode ter 'aspas simples' entre ele\n",
      " O texto\n",
      "pode ter varias\n",
      "linhas se tiver 3 aspas duplas \n",
      "no comeco e no fim \n",
      " Também é possivel\n",
      "com 3 aspas simples \n"
     ]
    }
   ],
   "source": [
    "dir(str)\n",
    "nome = 'Julio Cesar'\n",
    "nome\n",
    "nome[0]\n",
    "# nome[6] = 'C' #VAI DAR ERRO, STRING É IMUTÁVEL\n",
    "nome\n",
    "\n",
    "\"marca d'agua\" == 'marca d\\'agua'\n",
    "Texto = ' O texto que comeca por aspas simples, pode ter \"aspas duplas\" entre ele'\n",
    "Texto_2 = \"O texto que comeca por aspas duplas, pode ter 'aspas simples' entre ele\"\n",
    "\n",
    "print(Texto)\n",
    "print(Texto_2)\n",
    "\n",
    "\n",
    "Texto_3 = \"\"\" O texto\n",
    "pode ter varias\n",
    "linhas se tiver 3 aspas duplas \n",
    "no comeco e no fim \"\"\"\n",
    "print(Texto_3)\n",
    "\n",
    "Texto_4 = ''' Também é possivel\n",
    "com 3 aspas simples '''\n",
    "Texto_4\n",
    "print(Texto_4)"
   ]
  },
  {
   "cell_type": "code",
   "execution_count": 102,
   "id": "7485ddfe",
   "metadata": {},
   "outputs": [
    {
     "data": {
      "text/plain": [
       "'a P'"
      ]
     },
     "execution_count": 102,
     "metadata": {},
     "output_type": "execute_result"
    }
   ],
   "source": [
    "nome = 'Ana Paula'\n",
    "nome[0]\n",
    "nome[6]\n",
    "nome[-3]\n",
    "nome[4:]\n",
    "nome[:]\n",
    "nome[-5:]\n",
    "nome[:3]\n",
    "nome[:8]\n",
    "nome[:9]\n",
    "nome[2:5]"
   ]
  },
  {
   "cell_type": "code",
   "execution_count": 114,
   "id": "2c11f0d3",
   "metadata": {},
   "outputs": [
    {
     "data": {
      "text/plain": [
       "True"
      ]
     },
     "execution_count": 114,
     "metadata": {},
     "output_type": "execute_result"
    }
   ],
   "source": [
    "numeros = '1234567890'\n",
    "numeros\n",
    "numeros[::] == numeros[:]\n"
   ]
  },
  {
   "cell_type": "code",
   "execution_count": 133,
   "id": "7645fe34",
   "metadata": {},
   "outputs": [
    {
     "name": "stdout",
     "output_type": "stream",
     "text": [
      "28\n",
      "python é uma linguagem legal\n",
      "PYTHON É UMA LINGUAGEM LEGAL\n",
      "Python é uma linguagem legal\n"
     ]
    },
    {
     "data": {
      "text/plain": [
       "['PYTHON', 'É', 'UMA', 'LINGUAGEM', 'LEGAL']"
      ]
     },
     "execution_count": 133,
     "metadata": {},
     "output_type": "execute_result"
    }
   ],
   "source": [
    "frase = 'Python é uma linguagem legal'\n",
    "'Py' in frase\n",
    "print(len(frase))         #len(frase)\n",
    "print(frase.lower())      #frase.lower()\n",
    "print(frase.upper())   #frase.upper()\n",
    "print(frase)\n",
    "\n",
    "frase = frase.upper()\n",
    "\n",
    "frase\n",
    "\n",
    "frase.split()"
   ]
  },
  {
   "cell_type": "markdown",
   "id": "0d6232dd",
   "metadata": {},
   "source": [
    "## METODOS MAGICOS (STRING)\n"
   ]
  },
  {
   "cell_type": "code",
   "execution_count": 164,
   "id": "706a759a",
   "metadata": {},
   "outputs": [
    {
     "data": {
      "text/plain": [
       "True"
      ]
     },
     "execution_count": 164,
     "metadata": {},
     "output_type": "execute_result"
    }
   ],
   "source": [
    "a = '123'\n",
    "b = ' de Oliveira'\n",
    "(a + b)\n",
    "\n",
    "a.__add__(b) \n",
    "str.__add__(a,b) == a.__add__(b)\n",
    "\n",
    "len(a)\n",
    "a.__len__()\n",
    "'1' in a\n",
    "a.__contains__('1')\n",
    "\n"
   ]
  },
  {
   "cell_type": "markdown",
   "id": "ada17b55",
   "metadata": {},
   "source": [
    "#### REVERTER UMA STRING"
   ]
  },
  {
   "cell_type": "code",
   "execution_count": 32,
   "id": "054204cf",
   "metadata": {},
   "outputs": [
    {
     "data": {
      "text/plain": [
       "'onipirgA raseC oiluJ'"
      ]
     },
     "execution_count": 32,
     "metadata": {},
     "output_type": "execute_result"
    }
   ],
   "source": [
    "a = 'Julio Cesar Agripino'\n",
    "a [::-1]"
   ]
  },
  {
   "cell_type": "markdown",
   "id": "66a58584",
   "metadata": {},
   "source": [
    "# Listas"
   ]
  },
  {
   "cell_type": "code",
   "execution_count": 29,
   "id": "d1768dba",
   "metadata": {},
   "outputs": [
    {
     "data": {
      "text/plain": [
       "<function list.reverse()>"
      ]
     },
     "execution_count": 29,
     "metadata": {},
     "output_type": "execute_result"
    }
   ],
   "source": [
    "lista = []\n",
    "type(lista)\n",
    "dir(lista)\n",
    "# help(list)\n",
    "len(lista)\n",
    "lista.append(1)\n",
    "lista.append(5)\n",
    "len(lista)\n",
    "lista\n",
    "\n",
    "nova_lista = [1,5,'Ana','Bia']\n",
    "nova_lista\n",
    "nova_lista.remove(5)\n",
    "nova_lista\n",
    "# help(lista)\n",
    "nova_lista.reverse\n"
   ]
  },
  {
   "cell_type": "markdown",
   "id": "9e026919",
   "metadata": {},
   "source": [
    "### REVERTER UMA LISTA       ->    list_name.reverse()"
   ]
  },
  {
   "cell_type": "code",
   "execution_count": 39,
   "id": "9a951108",
   "metadata": {},
   "outputs": [
    {
     "data": {
      "text/plain": [
       "['Julio', 3, 2, 1]"
      ]
     },
     "execution_count": 39,
     "metadata": {},
     "output_type": "execute_result"
    }
   ],
   "source": [
    "lista = [1,2,3,'Julio']\n",
    "lista.reverse()\n",
    "lista\n",
    "# dir(lista)"
   ]
  },
  {
   "cell_type": "code",
   "execution_count": 63,
   "id": "1702206e",
   "metadata": {},
   "outputs": [
    {
     "data": {
      "text/plain": [
       "1"
      ]
     },
     "execution_count": 63,
     "metadata": {},
     "output_type": "execute_result"
    }
   ],
   "source": [
    "lista = [1,5,'Rebeca','Guilherme', 3.1415]\n",
    "lista.index('Guilherme')\n",
    "lista\n",
    "lista.index(\"Guilherme\")\n",
    "lista[2]\n",
    "1 in lista\n",
    "'Rebeca' in lista\n",
    "'Pedro' not in lista\n",
    "lista[4] \n",
    "lista[-1]\n",
    "lista[-5]"
   ]
  },
  {
   "cell_type": "code",
   "execution_count": 84,
   "id": "12815c73",
   "metadata": {},
   "outputs": [
    {
     "data": {
      "text/plain": [
       "['Ana']"
      ]
     },
     "execution_count": 84,
     "metadata": {},
     "output_type": "execute_result"
    }
   ],
   "source": [
    "lista = ['Ana','Lia','Rui','Paulo','Dani']\n",
    "lista\n",
    "lista[1:3]\n",
    "lista[1:-1]\n",
    "lista[1:]\n",
    "lista[0:-1]\n",
    "lista[:]\n",
    "lista[::2]\n",
    "lista[::-1]\n",
    "# lista.reverse()\n",
    "lista\n",
    "del lista[2]\n",
    "lista\n",
    "del lista[1:]\n",
    "lista"
   ]
  },
  {
   "cell_type": "markdown",
   "id": "d33906c0",
   "metadata": {},
   "source": [
    "# Tuplas"
   ]
  },
  {
   "cell_type": "code",
   "execution_count": 115,
   "id": "225491d8",
   "metadata": {},
   "outputs": [
    {
     "data": {
      "text/plain": [
       "4"
      ]
     },
     "execution_count": 115,
     "metadata": {},
     "output_type": "execute_result"
    }
   ],
   "source": [
    "# dir(tuple)\n",
    "tupla = tuple()\n",
    "tupla = ()\n",
    "type(tupla)\n",
    "dir(tupla)\n",
    "# help(tupla)\n",
    "tupla = ('um')\n",
    "type(tupla)\n",
    "tupla_2 = ('um',)\n",
    "type(tupla_2)\n",
    "tupla_2[0]\n",
    "\n",
    "cores = ('verde', 'amarelo', 'azul', 'branco')\n",
    "cores\n",
    "cores[0]\n",
    "cores[-1]\n",
    "cores[1:]\n",
    "cores.index('amarelo')\n",
    "cores.count('azul')\n",
    "len(cores)"
   ]
  },
  {
   "cell_type": "markdown",
   "id": "2e969717",
   "metadata": {},
   "source": [
    "# Dicionário\n"
   ]
  },
  {
   "cell_type": "code",
   "execution_count": 141,
   "id": "f68f2880",
   "metadata": {},
   "outputs": [
    {
     "name": "stdout",
     "output_type": "stream",
     "text": [
      "{'nome': 'Ana', 'idade': 20, 'cursos': ['Ingles', 'Portugues']}\n"
     ]
    },
    {
     "data": {
      "text/plain": [
       "True"
      ]
     },
     "execution_count": 141,
     "metadata": {},
     "output_type": "execute_result"
    }
   ],
   "source": [
    "pessoa = {'nome': 'Ana', 'idade': 20 , 'cursos': ['Ingles','Portugues']}\n",
    "print(pessoa)\n",
    "type(pessoa)\n",
    "# help(dict)\n",
    "# dir(dict)\n",
    "pessoa.values()\n",
    "\n",
    "len(pessoa)\n",
    "pessoa['nome']\n",
    "\n",
    "pessoa['idade']\n",
    "\n",
    "pessoa['cursos']\n",
    "pessoa['cursos'][0]\n",
    "pessoa['cursos'][1]\n",
    "\n",
    "pessoa.keys()\n",
    "pessoa.values()\n",
    "pessoa.items()\n",
    "\n",
    "pessoa.get('idade')\n",
    "pessoa['idade'] == pessoa.get('idade')\n",
    "\n"
   ]
  },
  {
   "cell_type": "code",
   "execution_count": 152,
   "id": "e99fe597",
   "metadata": {},
   "outputs": [
    {
     "data": {
      "text/plain": [
       "{'nome': 'Professor Alberto', 'cursos': ['React', 'Pyhton', 'Angular', 'Adm']}"
      ]
     },
     "execution_count": 152,
     "metadata": {},
     "output_type": "execute_result"
    }
   ],
   "source": [
    "pessoa = {'nome': 'Professor Alberto', 'idade': 43 , 'cursos': ['React','Pyhton']}\n",
    "pessoa\n",
    "\n",
    "pessoa['idade'] = '44'\n",
    "pessoa['cursos'].append('Angular')\n",
    "pessoa\n",
    "pessoa.pop('idade')\n",
    "pessoa\n",
    "\n",
    "pessoa['cursos'].append(\"Adm\")\n",
    "pessoa"
   ]
  },
  {
   "cell_type": "code",
   "execution_count": 167,
   "id": "2d2a4b11",
   "metadata": {},
   "outputs": [
    {
     "data": {
      "text/plain": [
       "{'nome': 'Ana', 'idade': 25, 'Curso': ['Direito', 'adm'], 'sexo': ' feminino'}"
      ]
     },
     "execution_count": 167,
     "metadata": {},
     "output_type": "execute_result"
    }
   ],
   "source": [
    "pessoa_2 = {'nome': 'Junior' , 'idade': 25 , 'Curso': ['Direito']}\n",
    "pessoa_2\n",
    "pessoa_2['Curso'].append('adm')\n",
    "pessoa_2\n",
    "\n",
    "pessoa_2.update({'nome':'Ana' , 'sexo': ' feminino'})\n",
    "pessoa_2"
   ]
  },
  {
   "cell_type": "markdown",
   "id": "a3a68ce3",
   "metadata": {},
   "source": [
    "# Conjuntos"
   ]
  },
  {
   "cell_type": "code",
   "execution_count": 219,
   "id": "8a4c8692",
   "metadata": {},
   "outputs": [
    {
     "data": {
      "text/plain": [
       "{1}"
      ]
     },
     "execution_count": 219,
     "metadata": {},
     "output_type": "execute_result"
    }
   ],
   "source": [
    "# help(set)\n",
    "# dir(set)\n",
    "\n",
    "a = {1,2,3}\n",
    "type(a)\n",
    "# a[0]\n",
    "\n",
    "a = set('c0000d3r')\n",
    "# print('3' in a)\n",
    "# print('r' not in a)\n",
    "a\n",
    "{'0', '3', 'c', 'd', 'r'} == {'0', '3', 'c', 'd', 'r','0'}\n",
    "\n",
    "#operações\n",
    "c1 = {1,2}\n",
    "c2 = {2,4}\n",
    "c1.union(c2)\n",
    "# dir(set)\n",
    "\n",
    "c1.intersection(c2)\n",
    "c1.update(c2)\n",
    "c1\n",
    "\n",
    "c2 <= c1 # <= C2 É SUBCONJUNTO DE C1? TRUE.\n",
    "c1 >= c2\n",
    "\n",
    "{1,2,3} - {2}\n",
    "# {1,2,3} + {4} #VAI DAR ERRRO, NAO TEM ADICAO EM SETS(CONJUNTOS).\n",
    "c1 - c2"
   ]
  },
  {
   "cell_type": "markdown",
   "id": "8b882df8",
   "metadata": {},
   "source": [
    "# Interpolação"
   ]
  },
  {
   "cell_type": "markdown",
   "id": "c97bd4bc",
   "metadata": {},
   "source": [
    "#### interpolar = substituir"
   ]
  },
  {
   "cell_type": "code",
   "execution_count": 6,
   "id": "f5237b09",
   "metadata": {},
   "outputs": [
    {
     "name": "stdout",
     "output_type": "stream",
     "text": [
      "nome: Ana idade: 30 True False\n",
      "nome: Ana , idade: 30\n",
      "Nome: Ana Idade: 30\n",
      "Nome: Ana Idade: 30\n"
     ]
    }
   ],
   "source": [
    "from string import Template\n",
    "nome, idade = 'Ana' , 30\n",
    "\n",
    "print('nome: %s idade: %d %r %r' % (nome,idade, True, False)) #versoo antiga\n",
    "\n",
    "print('nome: {0} , idade: {1}'.format(nome,idade)) #verso do python menor 3.6\n",
    "print(f'Nome: {nome} Idade: {idade}')\n",
    "\n",
    "s = Template('Nome: $nome Idade: $idade')\n",
    "print(s.substitute(nome=nome, idade=idade))"
   ]
  },
  {
   "cell_type": "markdown",
   "id": "f7442d11",
   "metadata": {},
   "source": [
    "# Primeiro Projeto em Python"
   ]
  },
  {
   "cell_type": "code",
   "execution_count": 15,
   "id": "d986d0c3",
   "metadata": {},
   "outputs": [
    {
     "data": {
      "text/plain": [
       "735.4148031000001"
      ]
     },
     "execution_count": 15,
     "metadata": {},
     "output_type": "execute_result"
    }
   ],
   "source": [
    "pi = 3.14159\n",
    "r = 15.3\n",
    "area_c = pi * r**2\n",
    "area_c"
   ]
  },
  {
   "cell_type": "code",
   "execution_count": 39,
   "id": "96467624",
   "metadata": {},
   "outputs": [
    {
     "data": {
      "text/plain": [
       "3.141592653589793"
      ]
     },
     "execution_count": 39,
     "metadata": {},
     "output_type": "execute_result"
    }
   ],
   "source": [
    "import math\n",
    "from math import pi ### DO FMATH, VAMOS PEGAR O PI\n",
    "pi\n",
    "### IMPORTANDO O MATH, DENTRO DO MATH VAMOS IMPORTAR O PI\n"
   ]
  },
  {
   "cell_type": "code",
   "execution_count": null,
   "id": "98f35dea",
   "metadata": {},
   "outputs": [],
   "source": []
  },
  {
   "cell_type": "code",
   "execution_count": null,
   "id": "7b14354b",
   "metadata": {},
   "outputs": [],
   "source": []
  },
  {
   "cell_type": "markdown",
   "id": "2f627e68",
   "metadata": {},
   "source": [
    "# Importando \n"
   ]
  },
  {
   "cell_type": "code",
   "execution_count": 2,
   "id": "7a6723c4",
   "metadata": {},
   "outputs": [
    {
     "name": "stdout",
     "output_type": "stream",
     "text": [
      "Diga o valor do raio:12\n",
      "Area do circulo 452.3893421169302\n"
     ]
    }
   ],
   "source": [
    "from math import pi\n",
    "\n",
    "\n",
    "def circulo(r):\n",
    "    print('Area do circulo', pi * float(r) ** 2)\n",
    "\n",
    "\n",
    "if __name__ == '__main__':\n",
    "\n",
    "    r = input('Diga o valor do raio:')\n",
    "    circulo(r)\n",
    "    \n",
    "    \n"
   ]
  },
  {
   "cell_type": "code",
   "execution_count": null,
   "id": "e062d04a",
   "metadata": {},
   "outputs": [],
   "source": []
  },
  {
   "cell_type": "code",
   "execution_count": null,
   "id": "55abde9b",
   "metadata": {},
   "outputs": [],
   "source": []
  },
  {
   "cell_type": "code",
   "execution_count": 10,
   "id": "aa5798f4",
   "metadata": {},
   "outputs": [
    {
     "name": "stdout",
     "output_type": "stream",
     "text": [
      "Diga o valor do raio:10\n",
      "Area do circulo é: 314.1592653589793\n"
     ]
    }
   ],
   "source": [
    "import math\n",
    "from math import pi\n",
    "\n",
    "r = input('Diga o valor do raio:')\n",
    "\n",
    "print('Area do circulo é:', pi * float(r) ** 2)\n"
   ]
  },
  {
   "cell_type": "code",
   "execution_count": null,
   "id": "1a5db54e",
   "metadata": {},
   "outputs": [],
   "source": []
  },
  {
   "cell_type": "markdown",
   "id": "6b8eec0f",
   "metadata": {},
   "source": [
    "# Notas IF ELSE ELIF\n"
   ]
  },
  {
   "cell_type": "code",
   "execution_count": 4,
   "id": "2338114f",
   "metadata": {},
   "outputs": [
    {
     "name": "stdout",
     "output_type": "stream",
     "text": [
      "Você não obteve nota minima,realizará exame final.\n"
     ]
    }
   ],
   "source": [
    "nota = 6.8\n",
    "\n",
    "if nota >= 9:\n",
    "    print(\"Parabéns, obeteve otimo resultado, esta participando do premio bimestral.\")\n",
    "    \n",
    "    \n",
    "    \n",
    "elif nota >= 7:\n",
    "    print(\"Você obteve nota necessária, APROVADO.\")\n",
    "    \n",
    "    \n",
    "else:\n",
    "    print(\"Você não obteve nota minima,realizará exame final.\")\n",
    "    "
   ]
  },
  {
   "cell_type": "code",
   "execution_count": 12,
   "id": "d5509fd7",
   "metadata": {},
   "outputs": [],
   "source": [
    "import math\n",
    "from math import pi\n",
    "\n",
    "r = 2\n",
    "\n",
    "area_c = pi * r **2\n",
    "# print(\"A aréa da circu. é:\" ,area_c) \n",
    "\n",
    "\n",
    "\n",
    "\n"
   ]
  },
  {
   "cell_type": "code",
   "execution_count": 14,
   "id": "297e4702",
   "metadata": {},
   "outputs": [
    {
     "name": "stdout",
     "output_type": "stream",
     "text": [
      "Diga o valor do raio.10\n",
      " Areá da circu é: 314.1592653589793\n"
     ]
    }
   ],
   "source": [
    "from math import pi\n",
    "\n",
    "r = input(\"Diga o valor do raio.\")\n",
    "print(\" Areá da circu é:\" , pi * float(r) ** 2)"
   ]
  },
  {
   "cell_type": "code",
   "execution_count": 19,
   "id": "2647cbae",
   "metadata": {},
   "outputs": [
    {
     "name": "stdout",
     "output_type": "stream",
     "text": [
      "Diga o valor do raio.10\n",
      " Areá da circu é: 314.1592653589793\n"
     ]
    }
   ],
   "source": [
    "from math import pi\n",
    "\n",
    "r = input('Diga o valor do raio.')\n",
    "\n",
    "def circulo(r):\n",
    "    print(\" Areá da circu é:\" , pi * float(r) ** 2)\n",
    "    \n",
    "circulo(r)"
   ]
  },
  {
   "cell_type": "markdown",
   "id": "006c1741",
   "metadata": {},
   "source": [
    "# Colocando cor no VSCODE\n"
   ]
  },
  {
   "cell_type": "markdown",
   "id": "0b30f51a",
   "metadata": {},
   "source": [
    "## tabela de cores:\n",
    "\n"
   ]
  },
  {
   "cell_type": "markdown",
   "id": "469eb436",
   "metadata": {},
   "source": [
    "### https://raccoon.ninja/pt/dev-pt/tabela-de-cores-ansi-python/\n"
   ]
  },
  {
   "cell_type": "markdown",
   "id": "6a2209ba",
   "metadata": {},
   "source": [
    "##### EXEMPLOS:"
   ]
  },
  {
   "cell_type": "code",
   "execution_count": 42,
   "id": "587ce43c",
   "metadata": {},
   "outputs": [
    {
     "name": "stdout",
     "output_type": "stream",
     "text": [
      "\u001b[1;34m OK, APROVADO\n"
     ]
    }
   ],
   "source": [
    "cor_reprovado = '\\033[1;31m' #vermelho\n",
    "cor_aprovado = '\\033[1;34m' #azul\n",
    "\n",
    "\n",
    "nota = 10\n",
    "\n",
    "\n",
    "if nota >= 7:\n",
    "    print(cor_aprovado , 'OK, APROVADO')\n",
    "    \n",
    "else:\n",
    "    print(cor_reprovado , 'REPROVADO.') \n",
    "    \n",
    "    \n",
    "\n"
   ]
  },
  {
   "cell_type": "code",
   "execution_count": null,
   "id": "31b0319a",
   "metadata": {},
   "outputs": [],
   "source": []
  },
  {
   "cell_type": "code",
   "execution_count": null,
   "id": "e89ace0d",
   "metadata": {},
   "outputs": [],
   "source": []
  },
  {
   "cell_type": "code",
   "execution_count": null,
   "id": "6302062b",
   "metadata": {},
   "outputs": [],
   "source": []
  },
  {
   "cell_type": "code",
   "execution_count": null,
   "id": "4c035c2f",
   "metadata": {},
   "outputs": [],
   "source": []
  },
  {
   "cell_type": "code",
   "execution_count": null,
   "id": "876f37ce",
   "metadata": {},
   "outputs": [],
   "source": [
    "if 0 <= idade < 18:\n",
    "        print('Menor de idade')\n",
    "\n",
    "    elif idade in range(18, 64):\n",
    "        print('Adulto')\n",
    "\n",
    "    elif idade in range(65, 100):\n",
    "        print('Melhor idade')\n",
    "\n",
    "    elif idade >= 100:\n",
    "        print('Centenaria')\n",
    "\n",
    "    else:\n",
    "        print('Idade Invalida')dd"
   ]
  },
  {
   "cell_type": "code",
   "execution_count": null,
   "id": "85b9566a",
   "metadata": {},
   "outputs": [],
   "source": []
  },
  {
   "cell_type": "code",
   "execution_count": null,
   "id": "6801adcb",
   "metadata": {},
   "outputs": [],
   "source": []
  },
  {
   "cell_type": "code",
   "execution_count": null,
   "id": "04b7586c",
   "metadata": {},
   "outputs": [],
   "source": []
  },
  {
   "cell_type": "code",
   "execution_count": 6,
   "id": "f90caddd",
   "metadata": {},
   "outputs": [
    {
     "name": "stdout",
     "output_type": "stream",
     "text": [
      "j,u,l,i,o,"
     ]
    }
   ],
   "source": [
    "palavra = 'julio'\n",
    "for letra in palavra:\n",
    "    print(letra,end=',')"
   ]
  },
  {
   "cell_type": "code",
   "execution_count": 39,
   "id": "eb1daa16",
   "metadata": {},
   "outputs": [
    {
     "name": "stdout",
     "output_type": "stream",
     "text": [
      "Julio\n",
      "Rai\n",
      "Augusto\n",
      "1 Julio\n",
      "2 Rai\n",
      "3 Augusto\n"
     ]
    }
   ],
   "source": [
    "aprovados = ['Julio', 'Rai','Augusto']\n",
    "for nome in aprovados:\n",
    "    print(nome)\n",
    "    \n",
    "    \n",
    "for posicao, nome in enumerate(aprovados):\n",
    "    print(posicao +1,nome)"
   ]
  },
  {
   "cell_type": "code",
   "execution_count": null,
   "id": "b2f1168c",
   "metadata": {},
   "outputs": [],
   "source": []
  },
  {
   "cell_type": "code",
   "execution_count": 10,
   "id": "3f25085a",
   "metadata": {},
   "outputs": [
    {
     "name": "stdout",
     "output_type": "stream",
     "text": [
      "10 ,\n"
     ]
    }
   ],
   "source": [
    "for x in range(1,11):\n",
    "    if x == 5:\n",
    "        continue\n",
    "print(x, ',')"
   ]
  },
  {
   "cell_type": "code",
   "execution_count": null,
   "id": "e7a41352",
   "metadata": {},
   "outputs": [],
   "source": [
    "from random import randint\n",
    "\n",
    "sorteio_dado = randint(1,7)\n",
    "numero = randint(1,7)\n",
    "\n",
    "while numero = randint(1,7): \n",
    "        print('ACERTOU.')\n",
    "        break\n",
    "else:\n",
    "    print('Não acertou o numero.')"
   ]
  },
  {
   "cell_type": "markdown",
   "id": "8778967f",
   "metadata": {},
   "source": [
    "# Chamar numero par:\n",
    "\n"
   ]
  },
  {
   "cell_type": "code",
   "execution_count": 4,
   "id": "9f49c10d",
   "metadata": {},
   "outputs": [],
   "source": [
    "# \n",
    "    #so vai chamar numero par"
   ]
  },
  {
   "cell_type": "markdown",
   "id": "f3aa57b2",
   "metadata": {},
   "source": [
    "# Chamar numero impar:\n"
   ]
  },
  {
   "cell_type": "code",
   "execution_count": null,
   "id": "e6656a69",
   "metadata": {},
   "outputs": [],
   "source": [
    "dias_semana = {'Segunda':2 , 'Terca' : 3, 'Quarta' : 4 , 'Quinta': 5 , 'Sexta': 6}\n",
    "fim_semana = {'Sabado':7 , 'Domingo' : 1}\n",
    "\n",
    "print(fim_semana)"
   ]
  },
  {
   "cell_type": "code",
   "execution_count": 16,
   "id": "211a218f",
   "metadata": {
    "scrolled": true
   },
   "outputs": [
    {
     "data": {
      "text/plain": [
       "'nome Gui idade 4'"
      ]
     },
     "execution_count": 16,
     "metadata": {},
     "output_type": "execute_result"
    }
   ],
   "source": [
    "valores = (\"Gui\",4)\n",
    "\n",
    "'nome {} idade {}'.format(*valores)"
   ]
  },
  {
   "cell_type": "code",
   "execution_count": null,
   "id": "2b477fea",
   "metadata": {},
   "outputs": [],
   "source": []
  },
  {
   "cell_type": "markdown",
   "id": "67d0f4aa",
   "metadata": {},
   "source": [
    "# Removendo resto de linhas da frase"
   ]
  },
  {
   "cell_type": "code",
   "execution_count": 84,
   "id": "f820d713",
   "metadata": {},
   "outputs": [
    {
     "name": "stdout",
     "output_type": "stream",
     "text": [
      "AAAAAAAa           aaaaaaa\n",
      "AAAAA aaaaaaaa AAAAAAAAAAAA\n"
     ]
    },
    {
     "data": {
      "text/plain": [
       "'500 10 2'"
      ]
     },
     "execution_count": 84,
     "metadata": {},
     "output_type": "execute_result"
    }
   ],
   "source": [
    "nome = \"AAAAAAAa           aaaaaaa\"\n",
    "print(nome)\n",
    "\n",
    "\n",
    "nome_com_strip = \"         AAAAA aaaaaaaa AAAAAAAAAAAA         \".strip()\n",
    "print(nome_com_strip)\n",
    "\n",
    "\n",
    "'500 10 20'.strip('10')   "
   ]
  }
 ],
 "metadata": {
  "kernelspec": {
   "display_name": "Python 3 (ipykernel)",
   "language": "python",
   "name": "python3"
  },
  "language_info": {
   "codemirror_mode": {
    "name": "ipython",
    "version": 3
   },
   "file_extension": ".py",
   "mimetype": "text/x-python",
   "name": "python",
   "nbconvert_exporter": "python",
   "pygments_lexer": "ipython3",
   "version": "3.9.7"
  }
 },
 "nbformat": 4,
 "nbformat_minor": 5
}
