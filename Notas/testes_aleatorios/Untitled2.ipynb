{
 "cells": [
  {
   "cell_type": "code",
   "execution_count": null,
   "id": "8ca28c24",
   "metadata": {},
   "outputs": [],
   "source": []
  },
  {
   "cell_type": "code",
   "execution_count": null,
   "id": "753f1d8b",
   "metadata": {},
   "outputs": [],
   "source": []
  },
  {
   "cell_type": "code",
   "execution_count": null,
   "id": "d13ecdfb",
   "metadata": {},
   "outputs": [],
   "source": []
  },
  {
   "cell_type": "code",
   "execution_count": 64,
   "id": "1b9361c6",
   "metadata": {},
   "outputs": [
    {
     "name": "stdout",
     "output_type": "stream",
     "text": [
      "17> Menor de Idade\n",
      "35> Adulto\n",
      "87> Idoso\n",
      "113> Centenario\n",
      "-2> \u001b[1;33mIdade Invalida\n"
     ]
    }
   ],
   "source": [
    "\n",
    "\n",
    "class Color:\n",
    "    ERRO = '\\033[1;33m'\n",
    "\n",
    "def faixa_etaria(idade):\n",
    "\tif 0 <= idade < 18:\n",
    "\t\treturn 'Menor de Idade'\n",
    "\telif idade in range(18,64):\n",
    "\t\treturn 'Adulto'\n",
    "\telif idade in range(65,100):\n",
    "\t\treturn 'Idoso'\n",
    "\telif idade >= 100:\n",
    "\t\treturn 'Centenario'\n",
    "\telse:\n",
    "\t\treturn Color.ERRO + 'Idade Invalida'\n",
    "\n",
    "if __name__ == '__main__':\n",
    "\tfor idade in (17,35,87,113,-2):\n",
    "\t\tprint(f'{idade}> {faixa_etaria(idade)}')"
   ]
  }
 ],
 "metadata": {
  "kernelspec": {
   "display_name": "Python 3 (ipykernel)",
   "language": "python",
   "name": "python3"
  },
  "language_info": {
   "codemirror_mode": {
    "name": "ipython",
    "version": 3
   },
   "file_extension": ".py",
   "mimetype": "text/x-python",
   "name": "python",
   "nbconvert_exporter": "python",
   "pygments_lexer": "ipython3",
   "version": "3.9.7"
  }
 },
 "nbformat": 4,
 "nbformat_minor": 5
}
